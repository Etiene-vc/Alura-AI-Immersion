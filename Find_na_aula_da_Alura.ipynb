{
  "nbformat": 4,
  "nbformat_minor": 0,
  "metadata": {
    "colab": {
      "provenance": [],
      "authorship_tag": "ABX9TyPAz1U9dOZULuraN/kBHuJJ",
      "include_colab_link": true
    },
    "kernelspec": {
      "name": "python3",
      "display_name": "Python 3"
    },
    "language_info": {
      "name": "python"
    }
  },
  "cells": [
    {
      "cell_type": "markdown",
      "metadata": {
        "id": "view-in-github",
        "colab_type": "text"
      },
      "source": [
        "<a href=\"https://colab.research.google.com/github/Etiene-vc/Alura-AI-Immersion/blob/main/Find_na_aula_da_Alura.ipynb\" target=\"_parent\"><img src=\"https://colab.research.google.com/assets/colab-badge.svg\" alt=\"Open In Colab\"/></a>"
      ]
    },
    {
      "cell_type": "markdown",
      "source": [
        "****************************************************\n",
        "** Find nas Aulas da Alura: Encontre respostas na Imersão IA! **\n",
        "****************************************************\n",
        "\n",
        "Tem dúvidas sobre a Imersão IA da Alura? 🤔  Use o Find nas Aulas da Alura para encontrar respostas rápidas nas transcrições das aulas!\n",
        "\n",
        "Como usar:\n",
        "\n",
        "1. Digite sua pergunta.\n",
        "2. Veja a resposta e a indicação da aula e momento exato do conteúdo.\n",
        "3. Se a resposta não te ajudar, o programa te mostrará outras opções.\n",
        "\n",
        "Exemplo:\n",
        "\n",
        "Você: Como gerar o API Key?\n",
        "\n",
        "Find nas Aulas da Alura: Veja a aula 4, no instante 1:10:49: \"...para conseguirmos essa API KEY, vamos no lado oposto do GetCode. No canto superior esquerdo, você clica lá...\"\n",
        "\n",
        "Você: Não era isso.\n",
        "\n",
        "Find nas Aulas da Alura: Veja a aula 2, no instante 0:45:12: \"...a API KEY é gerada automaticamente após a criação da sua conta...\"\n",
        "\n",
        "Você:  Legal, era isso!\n",
        "\n",
        "Você: sair\n",
        "\n",
        "😉 Pronto! Agora é só usar o Find nas Aulas da Alura."
      ],
      "metadata": {
        "id": "q-Ej4jJ349P3"
      }
    },
    {
      "cell_type": "code",
      "source": [
        "!pip install -U -q google-generativeai nltk\n",
        "\n",
        "# Importações e configurações iniciais\n",
        "import pandas as pd\n",
        "import google.generativeai as genai\n",
        "import nltk\n",
        "from nltk.tokenize import sent_tokenize\n",
        "from nltk.probability import FreqDist\n",
        "from nltk.corpus import stopwords\n",
        "\n",
        "nltk.download('punkt')\n",
        "nltk.download('stopwords')\n",
        "\n",
        "GOOGLE_API_KEY = \"COLE SUA CHAVE APIKEY\"\n",
        "genai.configure(api_key=GOOGLE_API_KEY)\n",
        "\n",
        "# Carregar o arquivo CSV\n",
        "df = pd.read_csv('trans.csv', names=['aula', 'horário', 'transcrição'], header=0)\n",
        "\n",
        "def resumir_texto(texto):\n",
        "    \"\"\"\n",
        "    Resume o texto extraindo apenas a frase mais importante.\n",
        "    \"\"\"\n",
        "    frases = sent_tokenize(texto)\n",
        "    palavras = [palavra.lower() for frase in frases for palavra in nltk.word_tokenize(frase) if palavra.isalnum()]\n",
        "    frequencia_palavras = FreqDist(palavras)\n",
        "\n",
        "    stop_words = set(stopwords.words('portuguese'))\n",
        "    pontuacao = {',', '.', '!', '?', ';', ':'}\n",
        "\n",
        "    pontuacao_palavras = [(palavra, frequencia) for palavra, frequencia in frequencia_palavras.items() if palavra not in stop_words and palavra not in pontuacao]\n",
        "\n",
        "    frases_pontuadas = []\n",
        "    for frase in frases:\n",
        "        pontuacao = sum([frequencia for palavra, frequencia in pontuacao_palavras if palavra in frase])\n",
        "        frases_pontuadas.append((frase, pontuacao))\n",
        "\n",
        "    frases_pontuadas.sort(key=lambda x: x[1], reverse=True)\n",
        "    return frases_pontuadas[0][0]  # Retorna apenas a frase mais importante\n",
        "\n",
        "# Resumir as transcrições para o mínimo\n",
        "transcricoes_minimas = []\n",
        "for i in range(len(df)):\n",
        "  resumo = resumir_texto(df['transcrição'][i])\n",
        "  transcricoes_minimas.append(resumo)\n",
        "\n",
        "# Combinar as transcrições resumidas em um único texto\n",
        "texto_transcricoes = ' '.join(transcricoes_minimas)\n",
        "\n",
        "def buscar_resposta(pergunta):\n",
        "    response = genai.generate_text(\n",
        "        model=\"models/chat-bison-001\",\n",
        "        prompt=f\"\"\"\n",
        "        Responda à seguinte pergunta com base neste texto:\n",
        "        ```\n",
        "        {texto_transcricoes}\n",
        "        ```\n",
        "\n",
        "        Pergunta: {pergunta}\n",
        "        \"\"\",\n",
        "        temperature=0.0,\n",
        "        max_output_tokens=100\n",
        "    )\n",
        "    return response.text.strip()\n",
        "\n",
        "# Loop principal\n",
        "while True:\n",
        "    pergunta = input(\"Faça sua pergunta (ou digite 'sair' para encerrar): \")\n",
        "    if pergunta.lower() == 'sair':\n",
        "        break\n",
        "\n",
        "    resposta = buscar_resposta(pergunta)\n",
        "    print(f\"Resposta:\\n{resposta}\\n\")"
      ],
      "metadata": {
        "id": "xZeKPZGMfzsS"
      },
      "execution_count": null,
      "outputs": []
    }
  ]
}